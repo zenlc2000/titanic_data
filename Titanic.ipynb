{
 "cells": [
  {
   "cell_type": "markdown",
   "metadata": {},
   "source": [
    "## Reading train.csv"
   ]
  },
  {
   "cell_type": "code",
   "execution_count": 1,
   "metadata": {
    "collapsed": true
   },
   "outputs": [],
   "source": [
    "import csv as csv\n",
    "import numpy as np"
   ]
  },
  {
   "cell_type": "code",
   "execution_count": 5,
   "metadata": {
    "collapsed": false
   },
   "outputs": [],
   "source": [
    "csv_file_object = csv.reader(open('train.csv', 'rt'))\n",
    "header = next(csv_file_object)\n",
    "data = []\n",
    "for row in csv_file_object:\n",
    "    data.append(row)\n",
    "data = np.array(data)"
   ]
  },
  {
   "cell_type": "code",
   "execution_count": 10,
   "metadata": {
    "collapsed": false
   },
   "outputs": [
    {
     "name": "stdout",
     "output_type": "stream",
     "text": [
      "['PassengerId', 'Survived', 'Pclass', 'Name', 'Sex', 'Age', 'SibSp', 'Parch', 'Ticket', 'Fare', 'Cabin', 'Embarked']\n"
     ]
    }
   ],
   "source": [
    "print(header)"
   ]
  },
  {
   "cell_type": "code",
   "execution_count": 8,
   "metadata": {
    "collapsed": false
   },
   "outputs": [
    {
     "name": "stdout",
     "output_type": "stream",
     "text": [
      "['1' '0' '3' 'Braund, Mr. Owen Harris' 'male' '22' '1' '0' 'A/5 21171'\n",
      " '7.25' '' 'S']\n"
     ]
    }
   ],
   "source": [
    "print(data[0])"
   ]
  },
  {
   "cell_type": "code",
   "execution_count": 9,
   "metadata": {
    "collapsed": false
   },
   "outputs": [
    {
     "name": "stdout",
     "output_type": "stream",
     "text": [
      "Braund, Mr. Owen Harris\n"
     ]
    }
   ],
   "source": [
    "print(data[0,3])"
   ]
  },
  {
   "cell_type": "markdown",
   "metadata": {},
   "source": [
    "## Playing with data"
   ]
  },
  {
   "cell_type": "markdown",
   "metadata": {},
   "source": [
    "Now if you want to call a specific column of data, say, the gender column, I can just type data[0::,4], remembering that \"0::\" means all (from start to end), and Python starts indices from 0 (not 1). You should be aware that the csv reader works by default with strings, so you will need to convert to floats in order to do numerical calculations. For example, you can turn the Pclass variable into floats by using data[0::,2].astype(np.float). Using this, we can calculate the proportion of survivors on the Titanic: "
   ]
  },
  {
   "cell_type": "code",
   "execution_count": 11,
   "metadata": {
    "collapsed": true
   },
   "outputs": [],
   "source": [
    "number_passengers = np.size(data[0::,1].astype(np.float))\n",
    "number_survived = np.sum(data[0::,1].astype(np.float))\n",
    "proportion_survivors = number_survived / number_passengers"
   ]
  },
  {
   "cell_type": "code",
   "execution_count": 12,
   "metadata": {
    "collapsed": true
   },
   "outputs": [],
   "source": [
    "women_only_stats = data[0::,4] == 'female'\n",
    "men_only_stats = data[0::,4] != 'female'"
   ]
  },
  {
   "cell_type": "code",
   "execution_count": 14,
   "metadata": {
    "collapsed": false
   },
   "outputs": [
    {
     "data": {
      "text/plain": [
       "array([False,  True,  True,  True, False, False, False, False,  True,\n",
       "        True,  True,  True, False, False,  True,  True, False, False,\n",
       "        True,  True, False, False,  True, False,  True,  True, False,\n",
       "       False,  True, False, False,  True,  True, False, False, False,\n",
       "       False, False,  True,  True,  True,  True, False,  True,  True,\n",
       "       False, False,  True, False,  True, False, False,  True,  True,\n",
       "       False, False,  True, False,  True, False, False,  True, False,\n",
       "       False, False, False,  True, False,  True, False, False,  True,\n",
       "       False, False, False, False, False, False, False,  True, False,\n",
       "       False,  True, False,  True,  True, False, False,  True, False,\n",
       "       False, False, False, False, False, False, False, False,  True,\n",
       "       False,  True, False, False, False, False, False,  True, False,\n",
       "       False,  True, False,  True, False,  True,  True, False, False,\n",
       "       False, False,  True, False, False, False,  True, False, False,\n",
       "       False, False,  True, False, False, False,  True,  True, False,\n",
       "       False,  True, False, False, False,  True,  True,  True, False,\n",
       "       False, False, False,  True, False, False, False,  True, False,\n",
       "       False, False, False,  True, False, False, False, False,  True,\n",
       "       False, False, False, False,  True,  True, False, False, False,\n",
       "       False,  True, False, False, False, False,  True, False, False,\n",
       "        True, False, False, False,  True, False,  True, False, False,\n",
       "       False,  True, False,  True, False,  True,  True, False, False,\n",
       "        True,  True, False, False, False, False, False,  True, False,\n",
       "       False,  True, False, False,  True, False, False, False,  True,\n",
       "        True, False,  True, False, False, False, False, False, False,\n",
       "       False, False, False, False,  True,  True, False, False,  True,\n",
       "       False,  True, False,  True, False, False,  True,  True, False,\n",
       "       False, False, False,  True,  True, False, False, False,  True,\n",
       "       False, False,  True,  True,  True,  True,  True,  True, False,\n",
       "       False, False, False,  True, False, False, False,  True,  True,\n",
       "       False, False,  True, False,  True,  True,  True, False, False,\n",
       "        True, False, False, False, False, False, False, False, False,\n",
       "       False,  True,  True,  True, False,  True, False, False, False,\n",
       "        True, False,  True,  True, False, False,  True, False, False,\n",
       "        True,  True, False,  True,  True,  True,  True, False, False,\n",
       "        True,  True, False,  True,  True, False, False,  True,  True,\n",
       "       False,  True, False,  True,  True,  True,  True, False, False,\n",
       "       False,  True, False, False,  True, False, False, False,  True,\n",
       "       False, False, False,  True,  True,  True, False, False, False,\n",
       "       False, False, False, False, False,  True,  True,  True,  True,\n",
       "       False, False,  True, False, False, False,  True,  True,  True,\n",
       "        True, False, False, False, False,  True,  True,  True, False,\n",
       "       False, False,  True,  True, False,  True, False, False, False,\n",
       "        True, False,  True, False, False, False,  True,  True, False,\n",
       "        True, False, False,  True, False, False,  True, False,  True,\n",
       "       False, False, False, False,  True, False, False,  True, False,\n",
       "       False,  True,  True,  True, False,  True, False, False, False,\n",
       "        True, False, False,  True,  True, False, False, False,  True,\n",
       "        True, False, False,  True,  True,  True, False, False,  True,\n",
       "       False, False,  True, False, False,  True, False,  True, False,\n",
       "       False, False, False, False, False, False, False,  True,  True,\n",
       "       False, False, False, False, False, False, False, False, False,\n",
       "       False,  True, False, False,  True,  True,  True, False, False,\n",
       "       False, False,  True, False, False, False,  True, False,  True,\n",
       "        True, False, False, False, False, False, False, False, False,\n",
       "       False,  True, False,  True, False, False,  True,  True,  True,\n",
       "        True, False,  True, False, False, False, False, False, False,\n",
       "        True, False, False,  True, False,  True, False,  True, False,\n",
       "       False,  True, False, False,  True, False, False, False,  True,\n",
       "       False, False,  True,  True,  True, False,  True, False,  True,\n",
       "        True,  True,  True, False, False, False,  True, False, False,\n",
       "       False, False, False, False, False,  True, False,  True, False,\n",
       "        True,  True, False, False, False, False,  True, False, False,\n",
       "        True, False, False, False,  True, False,  True, False, False,\n",
       "        True,  True,  True, False,  True,  True, False, False, False,\n",
       "        True, False, False, False, False, False,  True, False,  True,\n",
       "       False, False,  True, False, False, False,  True, False, False,\n",
       "       False, False, False, False, False,  True,  True,  True, False,\n",
       "        True, False, False,  True, False,  True,  True, False, False,\n",
       "       False, False, False, False, False, False,  True, False, False,\n",
       "       False, False, False, False,  True,  True, False, False,  True,\n",
       "       False, False,  True,  True, False,  True, False, False, False,\n",
       "       False,  True, False,  True, False,  True,  True, False, False,\n",
       "        True, False, False, False, False, False, False, False, False,\n",
       "       False, False, False,  True,  True, False, False, False, False,\n",
       "       False, False,  True,  True, False,  True, False, False, False,\n",
       "       False, False, False, False, False,  True, False,  True, False,\n",
       "       False, False, False, False,  True, False, False,  True, False,\n",
       "        True, False, False, False,  True, False,  True, False,  True,\n",
       "       False, False, False, False, False,  True,  True, False, False,\n",
       "        True, False, False, False, False, False,  True,  True, False,\n",
       "        True,  True, False, False, False, False, False,  True, False,\n",
       "       False, False, False, False,  True, False, False, False, False,\n",
       "        True, False, False,  True, False, False, False,  True, False,\n",
       "       False, False, False,  True, False, False, False,  True, False,\n",
       "        True, False,  True, False, False, False, False,  True, False,\n",
       "        True, False, False,  True, False,  True,  True,  True, False,\n",
       "       False, False, False,  True, False, False, False, False, False,\n",
       "        True, False, False, False,  True,  True, False,  True, False,\n",
       "        True, False, False, False, False, False,  True, False,  True,\n",
       "       False, False, False,  True, False, False,  True, False, False,\n",
       "       False,  True, False, False,  True, False, False, False, False,\n",
       "       False,  True,  True, False, False, False, False,  True, False,\n",
       "       False, False, False, False, False,  True, False, False, False,\n",
       "       False, False, False,  True, False, False,  True,  True,  True,\n",
       "        True,  True, False,  True, False, False, False,  True,  True,\n",
       "       False,  True,  True, False, False, False, False,  True, False,\n",
       "       False,  True,  True, False, False, False,  True,  True, False,\n",
       "        True, False, False,  True, False,  True,  True, False, False], dtype=bool)"
      ]
     },
     "execution_count": 14,
     "metadata": {},
     "output_type": "execute_result"
    }
   ],
   "source": [
    "women_only_stats"
   ]
  },
  {
   "cell_type": "code",
   "execution_count": 15,
   "metadata": {
    "collapsed": true
   },
   "outputs": [],
   "source": [
    "women_onboard = data[women_only_stats,1].astype(np.float)\n",
    "men_onbaord = data[men_only_stats,1].astype(np.float)"
   ]
  },
  {
   "cell_type": "code",
   "execution_count": 16,
   "metadata": {
    "collapsed": false
   },
   "outputs": [
    {
     "data": {
      "text/plain": [
       "array([ 1.,  1.,  1.,  1.,  1.,  1.,  1.,  0.,  1.,  0.,  1.,  1.,  0.,\n",
       "        1.,  1.,  1.,  1.,  0.,  1.,  0.,  0.,  1.,  1.,  1.,  0.,  1.,\n",
       "        1.,  1.,  1.,  1.,  1.,  1.,  0.,  1.,  1.,  1.,  1.,  1.,  1.,\n",
       "        0.,  1.,  1.,  0.,  0.,  0.,  0.,  1.,  1.,  0.,  1.,  1.,  0.,\n",
       "        1.,  1.,  0.,  1.,  1.,  1.,  1.,  0.,  1.,  0.,  0.,  1.,  1.,\n",
       "        1.,  1.,  1.,  1.,  1.,  0.,  0.,  1.,  1.,  1.,  1.,  1.,  0.,\n",
       "        1.,  1.,  0.,  1.,  0.,  1.,  0.,  1.,  0.,  0.,  1.,  1.,  1.,\n",
       "        1.,  1.,  0.,  1.,  1.,  1.,  1.,  1.,  0.,  1.,  1.,  1.,  1.,\n",
       "        0.,  0.,  1.,  1.,  1.,  1.,  1.,  1.,  1.,  1.,  0.,  1.,  1.,\n",
       "        1.,  1.,  1.,  1.,  1.,  1.,  1.,  1.,  1.,  1.,  1.,  1.,  1.,\n",
       "        1.,  1.,  1.,  0.,  1.,  1.,  0.,  1.,  1.,  1.,  1.,  0.,  1.,\n",
       "        1.,  1.,  1.,  1.,  1.,  1.,  1.,  1.,  0.,  1.,  0.,  0.,  0.,\n",
       "        1.,  0.,  1.,  1.,  0.,  0.,  1.,  1.,  1.,  1.,  1.,  0.,  1.,\n",
       "        1.,  1.,  1.,  1.,  1.,  1.,  1.,  1.,  1.,  0.,  1.,  1.,  0.,\n",
       "        1.,  1.,  0.,  0.,  0.,  0.,  1.,  1.,  1.,  1.,  1.,  1.,  1.,\n",
       "        1.,  1.,  1.,  0.,  1.,  1.,  1.,  1.,  0.,  0.,  1.,  1.,  1.,\n",
       "        1.,  1.,  0.,  0.,  1.,  1.,  1.,  1.,  0.,  1.,  1.,  1.,  1.,\n",
       "        0.,  1.,  1.,  1.,  1.,  0.,  1.,  1.,  0.,  1.,  1.,  0.,  1.,\n",
       "        0.,  1.,  0.,  1.,  1.,  1.,  1.,  0.,  0.,  1.,  1.,  1.,  0.,\n",
       "        0.,  1.,  1.,  1.,  1.,  0.,  1.,  1.,  1.,  1.,  1.,  1.,  1.,\n",
       "        1.,  0.,  1.,  0.,  1.,  1.,  1.,  1.,  1.,  1.,  1.,  0.,  0.,\n",
       "        1.,  1.,  1.,  1.,  1.,  1.,  0.,  1.,  1.,  0.,  1.,  0.,  1.,\n",
       "        0.,  0.,  1.,  1.,  1.,  1.,  1.,  1.,  1.,  0.,  1.,  0.,  1.,\n",
       "        1.,  1.,  1.,  0.,  1.,  1.,  1.,  1.,  1.,  1.,  1.,  0.,  0.,\n",
       "        1.,  0.])"
      ]
     },
     "execution_count": 16,
     "metadata": {},
     "output_type": "execute_result"
    }
   ],
   "source": [
    "women_onboard"
   ]
  },
  {
   "cell_type": "code",
   "execution_count": 17,
   "metadata": {
    "collapsed": true
   },
   "outputs": [],
   "source": [
    "proportion_women_survived = np.sum(women_onboard) / np.size(women_onboard)\n",
    "proportion_men_survived = np.sum(men_onbaord) / np.size(men_onbaord)"
   ]
  },
  {
   "cell_type": "code",
   "execution_count": 18,
   "metadata": {
    "collapsed": false
   },
   "outputs": [
    {
     "name": "stdout",
     "output_type": "stream",
     "text": [
      "Proportion of female survivors: 0.742038216561\n",
      "Proportion of male survivors: 0.188908145581\n"
     ]
    }
   ],
   "source": [
    "print('Proportion of female survivors: %s' % proportion_women_survived)\n",
    "print('Proportion of male survivors: %s' % proportion_men_survived)"
   ]
  },
  {
   "cell_type": "markdown",
   "metadata": {},
   "source": [
    "## Reading test data & writing gender model"
   ]
  },
  {
   "cell_type": "code",
   "execution_count": 20,
   "metadata": {
    "collapsed": false
   },
   "outputs": [],
   "source": [
    "test_file = open('test.csv','rt')\n",
    "test_file_object = csv.reader(test_file)\n",
    "header = next(test_file_object)"
   ]
  },
  {
   "cell_type": "code",
   "execution_count": 21,
   "metadata": {
    "collapsed": true
   },
   "outputs": [],
   "source": [
    "prediction_file = open('genderbasedmodel.csv', 'wt')\n",
    "prediction_file_object = csv.writer(prediction_file)"
   ]
  },
  {
   "cell_type": "code",
   "execution_count": 22,
   "metadata": {
    "collapsed": true
   },
   "outputs": [],
   "source": [
    "prediction_file_object.writerow(['PassengerId','Survived'])\n",
    "for row in test_file_object:\n",
    "    if row[3] == 'female':\n",
    "        prediction_file_object.writerow([row[0],'1'])\n",
    "    else:\n",
    "        prediction_file_object.writerow([row[0],'0'])\n",
    "test_file.close()\n",
    "prediction_file.close()"
   ]
  },
  {
   "cell_type": "markdown",
   "metadata": {},
   "source": [
    "## Pythonising the second submission"
   ]
  },
  {
   "cell_type": "code",
   "execution_count": null,
   "metadata": {
    "collapsed": true
   },
   "outputs": [],
   "source": []
  }
 ],
 "metadata": {
  "kernelspec": {
   "display_name": "Python 3",
   "language": "python",
   "name": "python3"
  },
  "language_info": {
   "codemirror_mode": {
    "name": "ipython",
    "version": 3
   },
   "file_extension": ".py",
   "mimetype": "text/x-python",
   "name": "python",
   "nbconvert_exporter": "python",
   "pygments_lexer": "ipython3",
   "version": "3.5.1"
  }
 },
 "nbformat": 4,
 "nbformat_minor": 0
}
